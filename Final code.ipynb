{
 "cells": [
  {
   "cell_type": "code",
   "execution_count": null,
   "metadata": {},
   "outputs": [
    {
     "ename": "",
     "evalue": "",
     "output_type": "error",
     "traceback": [
      "\u001b[1;31mThe kernel failed to start as 'plot_roc_curve' could not be imported from '/Library/Frameworks/Python.framework/Versions/3.11/lib/python3.11/site-packages/sklearn/metrics/__init__.py'.\n",
      "\u001b[1;31mClick <a href='https://aka.ms/kernelFailuresModuleImportErrFromFile'>here</a> for more info."
     ]
    }
   ],
   "source": [
    "import numpy as np                # linear algebra\n",
    "import pandas as pd               # data processing, read CSV file   \n",
    "import seaborn as sns             # data visualization\n",
    "import matplotlib.pyplot as plt   # calculate plots\n",
    "import missingno as msno          # calculate missing value          \n",
    "import cufflinks as cf\n",
    "import plotly.graph_objects as go\n",
    "\n",
    "from sklearn.preprocessing import OneHotEncoder, OrdinalEncoder\n",
    "from sklearn.preprocessing import StandardScaler\n",
    "from sklearn.neighbors import KNeighborsClassifier\n",
    "\n",
    "from sklearn.model_selection import train_test_split\n",
    "from sklearn.linear_model import LogisticRegression\n",
    "from sklearn.tree import DecisionTreeClassifier\n",
    "from sklearn.ensemble import AdaBoostClassifier\n",
    "from sklearn.ensemble import ExtraTreesClassifier\n",
    "from sklearn.ensemble import  RandomForestClassifier\n",
    "from sklearn.ensemble import GradientBoostingClassifier\n",
    "from sklearn.pipeline import make_pipeline\n",
    "from sklearn.metrics import accuracy_score\n",
    "from sklearn.metrics import mean_absolute_error, mean_squared_error\n",
    "from sklearn.metrics import classification_report, confusion_matrix"
   ]
  },
  {
   "cell_type": "code",
   "execution_count": null,
   "metadata": {},
   "outputs": [
    {
     "ename": "",
     "evalue": "",
     "output_type": "error",
     "traceback": [
      "\u001b[1;31mThe kernel failed to start as 'plot_roc_curve' could not be imported from '/Library/Frameworks/Python.framework/Versions/3.11/lib/python3.11/site-packages/sklearn/metrics/__init__.py'.\n",
      "\u001b[1;31mClick <a href='https://aka.ms/kernelFailuresModuleImportErrFromFile'>here</a> for more info."
     ]
    }
   ],
   "source": [
    "df = pd.read_csv('/Users/ramaniravipati/Desktop/Banking Chrun Project/Customerchurn.csv')\n",
    "df.shape"
   ]
  },
  {
   "cell_type": "code",
   "execution_count": null,
   "metadata": {},
   "outputs": [
    {
     "ename": "",
     "evalue": "",
     "output_type": "error",
     "traceback": [
      "\u001b[1;31mThe kernel failed to start as 'plot_roc_curve' could not be imported from '/Library/Frameworks/Python.framework/Versions/3.11/lib/python3.11/site-packages/sklearn/metrics/__init__.py'.\n",
      "\u001b[1;31mClick <a href='https://aka.ms/kernelFailuresModuleImportErrFromFile'>here</a> for more info."
     ]
    }
   ],
   "source": [
    "df.columns.values\n"
   ]
  },
  {
   "cell_type": "code",
   "execution_count": null,
   "metadata": {},
   "outputs": [
    {
     "ename": "",
     "evalue": "",
     "output_type": "error",
     "traceback": [
      "\u001b[1;31mThe kernel failed to start as 'plot_roc_curve' could not be imported from '/Library/Frameworks/Python.framework/Versions/3.11/lib/python3.11/site-packages/sklearn/metrics/__init__.py'.\n",
      "\u001b[1;31mClick <a href='https://aka.ms/kernelFailuresModuleImportErrFromFile'>here</a> for more info."
     ]
    }
   ],
   "source": [
    "df.info()\n"
   ]
  },
  {
   "cell_type": "code",
   "execution_count": null,
   "metadata": {},
   "outputs": [
    {
     "ename": "",
     "evalue": "",
     "output_type": "error",
     "traceback": [
      "\u001b[1;31mThe kernel failed to start as 'plot_roc_curve' could not be imported from '/Library/Frameworks/Python.framework/Versions/3.11/lib/python3.11/site-packages/sklearn/metrics/__init__.py'.\n",
      "\u001b[1;31mClick <a href='https://aka.ms/kernelFailuresModuleImportErrFromFile'>here</a> for more info."
     ]
    }
   ],
   "source": [
    "df.describe()"
   ]
  },
  {
   "cell_type": "code",
   "execution_count": null,
   "metadata": {},
   "outputs": [
    {
     "ename": "",
     "evalue": "",
     "output_type": "error",
     "traceback": [
      "\u001b[1;31mThe kernel failed to start as 'plot_roc_curve' could not be imported from '/Library/Frameworks/Python.framework/Versions/3.11/lib/python3.11/site-packages/sklearn/metrics/__init__.py'.\n",
      "\u001b[1;31mClick <a href='https://aka.ms/kernelFailuresModuleImportErrFromFile'>here</a> for more info."
     ]
    }
   ],
   "source": [
    "# Visualize missing values as a bar\n",
    "msno.bar(df)\n",
    "plt.show()"
   ]
  },
  {
   "cell_type": "code",
   "execution_count": null,
   "metadata": {},
   "outputs": [
    {
     "ename": "",
     "evalue": "",
     "output_type": "error",
     "traceback": [
      "\u001b[1;31mThe kernel failed to start as 'plot_roc_curve' could not be imported from '/Library/Frameworks/Python.framework/Versions/3.11/lib/python3.11/site-packages/sklearn/metrics/__init__.py'.\n",
      "\u001b[1;31mClick <a href='https://aka.ms/kernelFailuresModuleImportErrFromFile'>here</a> for more info."
     ]
    }
   ],
   "source": [
    "df['Churn'].value_counts()\n"
   ]
  },
  {
   "cell_type": "code",
   "execution_count": null,
   "metadata": {},
   "outputs": [
    {
     "ename": "",
     "evalue": "",
     "output_type": "error",
     "traceback": [
      "\u001b[1;31mThe kernel failed to start as 'plot_roc_curve' could not be imported from '/Library/Frameworks/Python.framework/Versions/3.11/lib/python3.11/site-packages/sklearn/metrics/__init__.py'.\n",
      "\u001b[1;31mClick <a href='https://aka.ms/kernelFailuresModuleImportErrFromFile'>here</a> for more info."
     ]
    }
   ],
   "source": [
    "sns.catplot(data=df, x=\"Churn\", kind=\"count\");"
   ]
  },
  {
   "cell_type": "code",
   "execution_count": null,
   "metadata": {},
   "outputs": [
    {
     "ename": "",
     "evalue": "",
     "output_type": "error",
     "traceback": [
      "\u001b[1;31mThe kernel failed to start as 'plot_roc_curve' could not be imported from '/Library/Frameworks/Python.framework/Versions/3.11/lib/python3.11/site-packages/sklearn/metrics/__init__.py'.\n",
      "\u001b[1;31mClick <a href='https://aka.ms/kernelFailuresModuleImportErrFromFile'>here</a> for more info."
     ]
    }
   ],
   "source": [
    "sns.catplot(data=df, x=\"gender\", kind=\"count\");"
   ]
  },
  {
   "cell_type": "code",
   "execution_count": null,
   "metadata": {},
   "outputs": [
    {
     "ename": "",
     "evalue": "",
     "output_type": "error",
     "traceback": [
      "\u001b[1;31mThe kernel failed to start as 'plot_roc_curve' could not be imported from '/Library/Frameworks/Python.framework/Versions/3.11/lib/python3.11/site-packages/sklearn/metrics/__init__.py'.\n",
      "\u001b[1;31mClick <a href='https://aka.ms/kernelFailuresModuleImportErrFromFile'>here</a> for more info."
     ]
    }
   ],
   "source": [
    "#Churn yes dataset\n",
    "churn_yes = pd.DataFrame(df.query('Churn == \"Yes\"'))\n",
    "\n",
    "#Churn no dataset\n",
    "churn_no = pd.DataFrame(df.query('Churn == \"No\"'))"
   ]
  },
  {
   "cell_type": "code",
   "execution_count": null,
   "metadata": {},
   "outputs": [
    {
     "ename": "",
     "evalue": "",
     "output_type": "error",
     "traceback": [
      "\u001b[1;31mThe kernel failed to start as 'plot_roc_curve' could not be imported from '/Library/Frameworks/Python.framework/Versions/3.11/lib/python3.11/site-packages/sklearn/metrics/__init__.py'.\n",
      "\u001b[1;31mClick <a href='https://aka.ms/kernelFailuresModuleImportErrFromFile'>here</a> for more info."
     ]
    }
   ],
   "source": [
    "color = ['lightblue', 'darkblue']\n",
    "df['SeniorCitizen'].value_counts().plot(kind='pie',\n",
    "                                        colors = color,\n",
    "                                        figsize=(8,6),\n",
    "                                        autopct='%1.1f%%',\n",
    "                                        shadow = True,\n",
    "                                        startangle=90)\n",
    "plt.title(\"SeniorCitizen\")\n",
    "plt.legend()"
   ]
  },
  {
   "cell_type": "code",
   "execution_count": null,
   "metadata": {},
   "outputs": [
    {
     "ename": "",
     "evalue": "",
     "output_type": "error",
     "traceback": [
      "\u001b[1;31mThe kernel failed to start as 'plot_roc_curve' could not be imported from '/Library/Frameworks/Python.framework/Versions/3.11/lib/python3.11/site-packages/sklearn/metrics/__init__.py'.\n",
      "\u001b[1;31mClick <a href='https://aka.ms/kernelFailuresModuleImportErrFromFile'>here</a> for more info."
     ]
    }
   ],
   "source": [
    "color = {\"Yes\": 'blue', \"No\": 'lightblue'}\n",
    "fig = px.histogram(df, x=\"Churn\", \n",
    "                       color=\"SeniorCitizen\", \n",
    "                       barmode=\"group\", \n",
    "                       color_discrete_map=color)\n",
    "fig.update_layout(width=700, height=500, bargap=0.1)\n",
    "fig.update_layout(title='Chrun distribuiton with SeniorCitizen')\n",
    "fig.show()"
   ]
  },
  {
   "cell_type": "code",
   "execution_count": null,
   "metadata": {},
   "outputs": [
    {
     "ename": "",
     "evalue": "",
     "output_type": "error",
     "traceback": [
      "\u001b[1;31mThe kernel failed to start as 'plot_roc_curve' could not be imported from '/Library/Frameworks/Python.framework/Versions/3.11/lib/python3.11/site-packages/sklearn/metrics/__init__.py'.\n",
      "\u001b[1;31mClick <a href='https://aka.ms/kernelFailuresModuleImportErrFromFile'>here</a> for more info."
     ]
    }
   ],
   "source": [
    "sns.displot(df, x=\"tenure\", binwidth=3);"
   ]
  },
  {
   "cell_type": "code",
   "execution_count": null,
   "metadata": {},
   "outputs": [
    {
     "ename": "",
     "evalue": "",
     "output_type": "error",
     "traceback": [
      "\u001b[1;31mThe kernel failed to start as 'plot_roc_curve' could not be imported from '/Library/Frameworks/Python.framework/Versions/3.11/lib/python3.11/site-packages/sklearn/metrics/__init__.py'.\n",
      "\u001b[1;31mClick <a href='https://aka.ms/kernelFailuresModuleImportErrFromFile'>here</a> for more info."
     ]
    }
   ],
   "source": [
    "X = pd.DataFrame(churn_yes['tenure'].value_counts().reset_index())\n",
    "# Plotting\n",
    "fig = px.scatter(X, x=\"tenure\",y='index',log_x=True, width=600)\n",
    "fig.update_layout(title='Tenure')\n",
    "fig.update_xaxes(title='Days')\n",
    "fig.update_yaxes(title='Count')\n",
    "fig.show()"
   ]
  },
  {
   "cell_type": "code",
   "execution_count": null,
   "metadata": {},
   "outputs": [
    {
     "ename": "",
     "evalue": "",
     "output_type": "error",
     "traceback": [
      "\u001b[1;31mThe kernel failed to start as 'plot_roc_curve' could not be imported from '/Library/Frameworks/Python.framework/Versions/3.11/lib/python3.11/site-packages/sklearn/metrics/__init__.py'.\n",
      "\u001b[1;31mClick <a href='https://aka.ms/kernelFailuresModuleImportErrFromFile'>here</a> for more info."
     ]
    }
   ],
   "source": [
    "InternetService=pd.DataFrame(churn_yes['InternetService'].value_counts().reset_index())\n",
    "InternetService.rename(columns=          {'index':'InternetService_churn_yes','InternetService':'counts_yes'},inplace=True)\n",
    "InternetService_no=pd.DataFrame(churn_no['InternetService'].value_counts().reset_index())\n",
    "InternetService_no.rename(columns={'index':'InternetServicechurn_no','InternetService':'counts_no'},inplace=True)\n",
    "InternetService_status=pd.concat([InternetService,InternetService_no],axis=1)\n",
    "InternetService_status"
   ]
  },
  {
   "cell_type": "code",
   "execution_count": null,
   "metadata": {},
   "outputs": [
    {
     "ename": "",
     "evalue": "",
     "output_type": "error",
     "traceback": [
      "\u001b[1;31mThe kernel failed to start as 'plot_roc_curve' could not be imported from '/Library/Frameworks/Python.framework/Versions/3.11/lib/python3.11/site-packages/sklearn/metrics/__init__.py'.\n",
      "\u001b[1;31mClick <a href='https://aka.ms/kernelFailuresModuleImportErrFromFile'>here</a> for more info."
     ]
    }
   ],
   "source": [
    "fig= go.Figure()\n",
    "#Churn_yes\n",
    "fig.add_trace(go.Bar(name='Churn Yes',\n",
    "                     x=['Fiber optic','DSL','No'],\n",
    "                     y=[1297,459,113],\n",
    "                     marker_color='blue'))\n",
    "#Churn_no\n",
    "fig.add_trace(go.Bar(name='Churn No', \n",
    "                     x=['Fiber optic','DSL','No'], \n",
    "                     y=[1799,1962,1413], \n",
    "                     marker_color='lightblue'))\n",
    "fig.update_layout(title='InternetService',\n",
    "                 autosize=False,\n",
    "                 width=500,\n",
    "                 height=500)\n",
    "fig.update_xaxes(title='Different Internet Services')\n",
    "fig.update_yaxes(title='Counts')\n",
    "fig.show()"
   ]
  },
  {
   "cell_type": "code",
   "execution_count": null,
   "metadata": {},
   "outputs": [
    {
     "ename": "",
     "evalue": "",
     "output_type": "error",
     "traceback": [
      "\u001b[1;31mThe kernel failed to start as 'plot_roc_curve' could not be imported from '/Library/Frameworks/Python.framework/Versions/3.11/lib/python3.11/site-packages/sklearn/metrics/__init__.py'.\n",
      "\u001b[1;31mClick <a href='https://aka.ms/kernelFailuresModuleImportErrFromFile'>here</a> for more info."
     ]
    }
   ],
   "source": [
    "cf.go_offline()\n",
    "cf.set_config_file(offline = False, world_readable = True)\n",
    "df['PaymentMethod'].iplot(kind='hist',\n",
    "                          xTitle='PaymentMethod',\n",
    "                          linecolor='black',\n",
    "                          yTitle='count',\n",
    "                          dimensions = (600,600),\n",
    "                          title='Payment Mode Distribution')"
   ]
  },
  {
   "cell_type": "code",
   "execution_count": null,
   "metadata": {},
   "outputs": [
    {
     "ename": "",
     "evalue": "",
     "output_type": "error",
     "traceback": [
      "\u001b[1;31mThe kernel failed to start as 'plot_roc_curve' could not be imported from '/Library/Frameworks/Python.framework/Versions/3.11/lib/python3.11/site-packages/sklearn/metrics/__init__.py'.\n",
      "\u001b[1;31mClick <a href='https://aka.ms/kernelFailuresModuleImportErrFromFile'>here</a> for more info."
     ]
    }
   ],
   "source": [
    "df['Contract'].iplot(kind='hist',\n",
    "                     xTitle='Contract',\n",
    "                     linecolor='black',\n",
    "                     yTitle='count',\n",
    "                     color='blue',\n",
    "                     size=20,\n",
    "                     dimensions=(600,600),\n",
    "                     title='Payment Mode Distribution')"
   ]
  },
  {
   "cell_type": "code",
   "execution_count": null,
   "metadata": {},
   "outputs": [
    {
     "ename": "",
     "evalue": "",
     "output_type": "error",
     "traceback": [
      "\u001b[1;31mThe kernel failed to start as 'plot_roc_curve' could not be imported from '/Library/Frameworks/Python.framework/Versions/3.11/lib/python3.11/site-packages/sklearn/metrics/__init__.py'.\n",
      "\u001b[1;31mClick <a href='https://aka.ms/kernelFailuresModuleImportErrFromFile'>here</a> for more info."
     ]
    }
   ],
   "source": [
    "con = pd.DataFrame(churn_yes['Contract'].value_counts().reset_index())\n",
    "con.rename(columns={'index': 'contracts_churn_yes', 'Contract': 'counts_yes'}, inplace=True)\n",
    "\n",
    "con_no = pd.DataFrame(churn_no['Contract'].value_counts().reset_index())\n",
    "con_no.rename(columns={'index': 'contracts_churn_no', 'Contract': 'counts_no'}, inplace=True)\n",
    "\n",
    "contract_status = pd.concat([con, con_no], axis=1)\n",
    "contract_status"
   ]
  },
  {
   "cell_type": "code",
   "execution_count": null,
   "metadata": {},
   "outputs": [
    {
     "ename": "",
     "evalue": "",
     "output_type": "error",
     "traceback": [
      "\u001b[1;31mThe kernel failed to start as 'plot_roc_curve' could not be imported from '/Library/Frameworks/Python.framework/Versions/3.11/lib/python3.11/site-packages/sklearn/metrics/__init__.py'.\n",
      "\u001b[1;31mClick <a href='https://aka.ms/kernelFailuresModuleImportErrFromFile'>here</a> for more info."
     ]
    }
   ],
   "source": [
    "fig= go.Figure()\n",
    "#Churn_yes\n",
    "fig.add_trace(go.Bar(name='Churn Yes',\n",
    "                     x=['Month-to-month', 'Two year', 'One year'],\n",
    "                     y=[3875, 1695, 1473],\n",
    "                     marker_color='blue'))\n",
    "#Churn_no\n",
    "fig.add_trace(go.Bar(name='Churn No',\n",
    "                     x=['Month-to-month', 'Two year', 'One year'],\n",
    "                     y=[2220, 1647, 1307],\n",
    "                     marker_color='lightblue'))\n",
    "fig.update_layout(title='Contract',\n",
    "                  autosize=False,\n",
    "                  width=500,\n",
    "                  height=500)\n",
    "fig.update_xaxes(title='Different Contract')\n",
    "fig.update_yaxes(title='Counts')\n",
    "fig.show()"
   ]
  },
  {
   "cell_type": "code",
   "execution_count": null,
   "metadata": {},
   "outputs": [
    {
     "ename": "",
     "evalue": "",
     "output_type": "error",
     "traceback": [
      "\u001b[1;31mThe kernel failed to start as 'plot_roc_curve' could not be imported from '/Library/Frameworks/Python.framework/Versions/3.11/lib/python3.11/site-packages/sklearn/metrics/__init__.py'.\n",
      "\u001b[1;31mClick <a href='https://aka.ms/kernelFailuresModuleImportErrFromFile'>here</a> for more info."
     ]
    }
   ],
   "source": [
    "sns.catplot(data=df, x=\"PhoneService\", kind=\"count\");"
   ]
  },
  {
   "cell_type": "code",
   "execution_count": null,
   "metadata": {},
   "outputs": [
    {
     "ename": "",
     "evalue": "",
     "output_type": "error",
     "traceback": [
      "\u001b[1;31mThe kernel failed to start as 'plot_roc_curve' could not be imported from '/Library/Frameworks/Python.framework/Versions/3.11/lib/python3.11/site-packages/sklearn/metrics/__init__.py'.\n",
      "\u001b[1;31mClick <a href='https://aka.ms/kernelFailuresModuleImportErrFromFile'>here</a> for more info."
     ]
    }
   ],
   "source": [
    "color = {\"Yes\": 'blue', \"No\": 'lightblue'}\n",
    "fig = px.histogram(df, x=\"Churn\", \n",
    "                       color=\"PhoneService\", \n",
    "                       barmode=\"group\", \n",
    "                       color_discrete_map=color)\n",
    "fig.update_layout(width=700, height=500, bargap=0.1)\n",
    "fig.update_layout(title='Chrun distribuiton with Phone Service')\n",
    "fig.show()\n"
   ]
  },
  {
   "cell_type": "code",
   "execution_count": null,
   "metadata": {},
   "outputs": [
    {
     "ename": "",
     "evalue": "",
     "output_type": "error",
     "traceback": [
      "\u001b[1;31mThe kernel failed to start as 'plot_roc_curve' could not be imported from '/Library/Frameworks/Python.framework/Versions/3.11/lib/python3.11/site-packages/sklearn/metrics/__init__.py'.\n",
      "\u001b[1;31mClick <a href='https://aka.ms/kernelFailuresModuleImportErrFromFile'>here</a> for more info."
     ]
    }
   ],
   "source": [
    "cols_to_encode = ['gender', 'Partner', 'Dependents', 'PhoneService', \n",
    "                  'MultipleLines', 'InternetService', 'OnlineSecurity',\n",
    "                  'OnlineBackup', 'DeviceProtection', 'TechSupport',\n",
    "                  'StreamingTV', 'StreamingMovies', 'Contract',\n",
    "                  'PaperlessBilling', 'PaymentMethod']\n",
    "\n",
    "# One-hot encode the categorical columns\n",
    "ohe = OneHotEncoder(drop='first', sparse=False, dtype=np.int32)\n",
    "X_ohe = ohe.fit_transform(df[cols_to_encode])\n",
    "X_ohe_names = ohe.get_feature_names(cols_to_encode)\n",
    "\n",
    "# Combine the encoded features with the numerical features\n",
    "X = pd.concat([df.drop(columns=cols_to_encode), pd.DataFrame(X_ohe, columns=X_ohe_names)], axis=1)\n",
    "\n",
    "# Encode the target variable\n",
    "y = df['Churn'].replace({'No': 0, 'Yes': 1}).values"
   ]
  },
  {
   "cell_type": "code",
   "execution_count": null,
   "metadata": {},
   "outputs": [
    {
     "ename": "",
     "evalue": "",
     "output_type": "error",
     "traceback": [
      "\u001b[1;31mThe kernel failed to start as 'plot_roc_curve' could not be imported from '/Library/Frameworks/Python.framework/Versions/3.11/lib/python3.11/site-packages/sklearn/metrics/__init__.py'.\n",
      "\u001b[1;31mClick <a href='https://aka.ms/kernelFailuresModuleImportErrFromFile'>here</a> for more info."
     ]
    }
   ],
   "source": [
    "%pip install --upgrade matplotlib"
   ]
  }
 ],
 "metadata": {
  "kernelspec": {
   "display_name": "Python 3",
   "language": "python",
   "name": "python3"
  },
  "language_info": {
   "codemirror_mode": {
    "name": "ipython",
    "version": 3
   },
   "file_extension": ".py",
   "mimetype": "text/x-python",
   "name": "python",
   "nbconvert_exporter": "python",
   "pygments_lexer": "ipython3",
   "version": "3.11.0"
  },
  "orig_nbformat": 4
 },
 "nbformat": 4,
 "nbformat_minor": 2
}
